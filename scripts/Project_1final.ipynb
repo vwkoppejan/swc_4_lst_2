{
 "cells": [
  {
   "cell_type": "code",
   "execution_count": 38,
   "id": "f10b7da2",
   "metadata": {},
   "outputs": [],
   "source": [
    "import numpy as np\n",
    "def solve_pH(Sh_ini, StV, Keq, chrM):    \n",
    "    w = 1\n",
    "    a, b = 1e-14, 1\n",
    "    spcM = np.zeros(np.shape(chrM))\n",
    "    G = []\n",
    "    for Sh in [a,b]:\n",
    "        Denm = Sh**3 + Keq[:, 0] * Sh**2 + Keq[:, 1] * Keq[:, 0] * Sh + Keq[:, 2]* Keq[:, 1]* Keq[:, 0]\n",
    "        spcM[:, 0] = (StV * Sh**3) / Denm\n",
    "        spcM[:, 1] = (StV * Sh**2 * Keq[:, 0]) / Denm\n",
    "        spcM[:, 2] = (StV * Sh * Keq[:, 0]* Keq[:, 1]) / Denm\n",
    "        spcM[:, 3] = (StV * Keq[:, 0] * Keq[:, 1]* Keq[:, 2]) / Denm\n",
    "        G.append(Sh + sum(sum(spcM * chrM)) - 10**(-14)/Sh)\n",
    "    fa, fb = G[0], G[1]\n",
    "    if fa*fb > 0:\n",
    "        print('Wrong input')\n",
    "        Sh, spcM, ipH = 0, 0, 0\n",
    "        return Sh, spcM, ipH\n",
    "    # Newton-Raphson method.-\n",
    "    Sh = Sh_ini\n",
    "    #Counter of convergences\n",
    "    ipH = 0; Tol = 5.e-15; maxIter = 100\n",
    "    dspcM = spcM\n",
    "    while ipH < maxIter:\n",
    "        Denm = Sh**3 + Keq[:, 0] * Sh**2 + Keq[:, 1] * Keq[:, 0] * Sh + Keq[:, 2]* Keq[:, 1]* Keq[:, 0]\n",
    "        spcM[:, 0] = (StV * Sh**3) / Denm\n",
    "        spcM[:, 1] = (StV * Sh**2 * Keq[:, 0]) / Denm\n",
    "        spcM[:, 2] = (StV * Sh * Keq[:, 0]* Keq[:, 1]) / Denm\n",
    "        spcM[:, 3] = (StV * Keq[:, 0] * Keq[:, 1]* Keq[:, 2]) / Denm   \n",
    "      \n",
    "        # Evaluation of the charge balance for the current Sh value, F(Sh)\n",
    "        F = Sh + sum(sum(spcM * chrM)) - 10**(-14)/Sh\n",
    "\n",
    "        # Calculation of all derivated functions\n",
    "        dDenm = Denm**2;\n",
    "        aux = 3 * Sh**2 + 2 * Sh * Keq[:, 0] + Keq[:, 0]* Keq[:, 1]\n",
    "\n",
    "        dspcM[:, 0] = (3 * Sh**2 *StV) / Denm - (StV * Sh**3 * aux) / dDenm\n",
    "        dspcM[:, 1] = (2 * Sh * Keq[:, 0] * StV) / Denm - ((Keq[:, 0]* StV * Sh**2) * aux) / dDenm\n",
    "        dspcM[:, 2] = (Keq[:, 0] * Keq[:, 1] * StV) / Denm - ((Keq[:, 0] * Keq[:, 1] * StV * Sh) * aux) / dDenm\n",
    "        dspcM[:, 3] = -(Keq[:, 0] * Keq[:, 1] * Keq[:, 2] * StV * aux) / dDenm\n",
    "\n",
    "        # Evaluation of the charge balance for the current Sh value, dF(Sh)\n",
    "        dF = 1 + sum(sum(dspcM * chrM)) + 10**(-14)/Sh**2\n",
    "        #Error\n",
    "        err = F / dF\n",
    "        #Newton-Raphson algorithm\n",
    "        Sh = Sh - err\n",
    "\n",
    "        if (abs(err) < 1e-14) and (abs(F) < Tol):\n",
    "            # Checking if the input gives a valid pH \n",
    "            if (Sh > 1e-14) and (Sh < 1):\n",
    "                break\n",
    "            else:\n",
    "                ipH = 0; err1, err2 = 1, 1\n",
    "                while (err1 > Tol): #and (err2 > 1e-14):\n",
    "                    Sh = (fb * a - fa * b) / (fb - fa)\n",
    "                    Denm = Sh**3 + Keq[:, 0] * Sh**2 + Keq[:, 1] * Keq[:, 0] * Sh + Keq[:, 2]* Keq[:, 1]* Keq[:, 0]\n",
    "                    spcM[:, 0] = (StV * Sh**3) / Denm\n",
    "                    spcM[:, 1] = (StV * Sh**2 * Keq[:, 0]) / Denm\n",
    "                    spcM[:, 2] = (StV * Sh * Keq[:, 0]* Keq[:, 1]) / Denm\n",
    "                    spcM[:, 3] = (StV * Keq[:, 0] * Keq[:, 1]* Keq[:, 2]) / Denm     \n",
    "                    fc = Sh + sum(sum(spcM * chrM)) - 10**(-14)/Sh\n",
    "                    if fa * fc > 0:\n",
    "                        a, fa = Sh, fc\n",
    "                    elif fb * fc > 0: # To avoid problems when fc == 0\n",
    "                        b, fb = Sh, fc\n",
    "\n",
    "                    err1 = abs(fc)\n",
    "                    #err2 = abs(Sh - (fb * a - fa * b) / (fb - fa))\n",
    "                    ipH += 1\n",
    "        ipH += 1\n",
    "            \n",
    "\n",
    "    return Sh, spcM, ipH\n"
   ]
  },
  {
   "cell_type": "code",
   "execution_count": 39,
   "id": "8fdd6edb",
   "metadata": {},
   "outputs": [
    {
     "data": {
      "text/plain": [
       "(6.957013911271398,\n",
       " 3,\n",
       " array([[ 7.19772662e+03, -7.17930611e+03, -1.84205064e+01,\n",
       "         -0.00000000e+00],\n",
       "        [ 1.19780342e-04,  2.09595943e+00, -2.09605839e+00,\n",
       "         -2.08256585e-05],\n",
       "        [ 1.66626971e+02, -1.66626971e+02,  0.00000000e+00,\n",
       "         -0.00000000e+00],\n",
       "        [ 8.14936421e+01, -8.14936421e+01,  0.00000000e+00,\n",
       "         -0.00000000e+00],\n",
       "        [ 0.00000000e+00,  0.00000000e+00,  0.00000000e+00,\n",
       "         -0.00000000e+00],\n",
       "        [-7.27595761e-12,  0.00000000e+00,  0.00000000e+00,\n",
       "         -0.00000000e+00]]))"
      ]
     },
     "execution_count": 39,
     "metadata": {},
     "output_type": "execute_result"
    }
   ],
   "source": [
    "#CASE 1\n",
    "#order: inorganic carbon - phosphate - acetic ac - ammonium - cations - anions\n",
    "Keq = np.array([[ 10**(-6.35), 10**(-10.33),  0],[ 10**(-2.14), 10**(-7.2), 10**(-12.37)],[10**(-4.75), 0,0],[10**(-9.3),0,0],[0,0,0],[0,0,0]])\n",
    "chrM = np.array([[0,-1,-2, 0],[0,-1,-2, -3], [ 0, -1, 0, 0],[ 1, 0, 0, 0], [ 1, 0, 0, 0], [-1, 0, 0, 0]])\n",
    "Sh_ini = 10**(-7)\n",
    "ic, phosphate, acetic, nh4 = 5*10**(-3), 1*10**(-6), 3*10**(-3), 2*10**(-3)\n",
    "cations = 3*phosphate + ic + 2*10**(-3)\n",
    "anions = 2*10**(-3)\n",
    "StV =np.array([ic, phosphate, acetic, nh4, cations, anions])\n",
    "[Sh, spcM, ipH] =solve_pH(Sh_ini, StV, Keq, chrM)\n",
    "pH = -np.log10(Sh)\n",
    "pH, ipH, spcM"
   ]
  },
  {
   "cell_type": "code",
   "execution_count": 40,
   "id": "4a6e8b21",
   "metadata": {},
   "outputs": [
    {
     "data": {
      "text/plain": [
       "(8.913504653092218,\n",
       " 29785,\n",
       " array([[3.93650884e-05, 1.44084042e-02, 5.52230688e-04, 0.00000000e+00],\n",
       "        [3.19537614e-13, 1.89682228e-06, 9.80688978e-05, 3.42796159e-08],\n",
       "        [1.44106921e-06, 2.09985589e-02, 0.00000000e+00, 0.00000000e+00],\n",
       "        [1.41775493e-03, 5.82245069e-04, 0.00000000e+00, 0.00000000e+00],\n",
       "        [3.73000000e-02, 0.00000000e+00, 0.00000000e+00, 0.00000000e+00],\n",
       "        [2.00000000e-03, 0.00000000e+00, 0.00000000e+00, 0.00000000e+00]]))"
      ]
     },
     "execution_count": 40,
     "metadata": {},
     "output_type": "execute_result"
    }
   ],
   "source": [
    "#CASE 2\n",
    "#order: inorganic carbon - phosphate - acetic ac - ammonium - cations - anions\n",
    "Keq = np.array([[ 10**(-6.35), 10**(-10.33),  0],[ 10**(-2.14), 10**(-7.2), 10**(-12.37)],[10**(-4.75), 0,0],[10**(-9.3),0,0],[0,0,0],[0,0,0]])\n",
    "chrM = np.array([[0,-1,-2, 0],[0,-1,-2, -3], [ 0, -1, 0, 0],[ 1, 0, 0, 0], [ 1, 0, 0, 0], [-1, 0, 0, 0]])\n",
    "Sh_ini = 10**(-7)\n",
    "ic, phosphate, acetic, nh4 = 15*10**(-3), 1*10**(-4), 21*10**(-3), 2*10**(-3)\n",
    "cations = 3*phosphate + ic + 22*10**(-3)\n",
    "anions = 2*10**(-3)\n",
    "StV =np.array([ic, phosphate, acetic, nh4, cations, anions])\n",
    "[Sh, spcM, ipH] =solve_pH(Sh_ini, StV, Keq, chrM)\n",
    "pH = -np.log10(Sh)\n",
    "pH, ipH, spcM"
   ]
  },
  {
   "cell_type": "code",
   "execution_count": null,
   "id": "1df941a5",
   "metadata": {},
   "outputs": [],
   "source": []
  }
 ],
 "metadata": {
  "kernelspec": {
   "display_name": "Python 3",
   "language": "python",
   "name": "python3"
  },
  "language_info": {
   "codemirror_mode": {
    "name": "ipython",
    "version": 3
   },
   "file_extension": ".py",
   "mimetype": "text/x-python",
   "name": "python",
   "nbconvert_exporter": "python",
   "pygments_lexer": "ipython3",
   "version": "3.8.8"
  }
 },
 "nbformat": 4,
 "nbformat_minor": 5
}
