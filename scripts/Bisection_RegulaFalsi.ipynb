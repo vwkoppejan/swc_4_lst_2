{
 "cells": [
  {
   "cell_type": "code",
   "execution_count": 6,
   "id": "d4e2652d",
   "metadata": {},
   "outputs": [
    {
     "name": "stdout",
     "output_type": "stream",
     "text": [
      "Aproximated value: 1.4142137\n",
      "Error of the method in the root evaluated: 2.69e-07\n",
      "Maximum error of the method: 4.77e-07\n",
      "Real value: 1.4142136\n",
      "Absolute Error (respect real value): 9.50e-08\n",
      "Relative Error (respect real value): 6.72e-08\n",
      "Number of iterations: 21\n"
     ]
    }
   ],
   "source": [
    "import math\n",
    "#Bisection Method to find the square root of 2\n",
    "x1 = 2; x2 = 1\n",
    "Tol = 10**(-6)\n",
    "f = 1\n",
    "f1 = x1**2 - 2\n",
    "f2 = x2**2 - 2\n",
    "i = 0\n",
    "while abs(f) > Tol:\n",
    "    i += 1\n",
    "    x = (x2+x1)/2\n",
    "    f = x**2 - 2\n",
    "    if f1*f < 0:\n",
    "        x2 = x\n",
    "        f2 = f\n",
    "    else:\n",
    "        x1 = x\n",
    "        f1 = f\n",
    "\n",
    "print('Aproximated value: %.7f'% x)\n",
    "errorM = abs(x1-x2)\n",
    "print('Error of the method in the root evaluated: %.2e'% f)\n",
    "print('Maximum error of the method: %.2e'% errorM)\n",
    "realx = math.sqrt(2)\n",
    "errorA = abs(realx - x)\n",
    "errorR = errorA/realx\n",
    "print('Real value: %.7f'% realx)\n",
    "print('Absolute Error (respect real value): %.2e'% errorA)\n",
    "print('Relative Error (respect real value): %.2e'% errorR)\n",
    "print('Number of iterations: %i'% i)\n",
    "    \n",
    "    "
   ]
  },
  {
   "cell_type": "code",
   "execution_count": 7,
   "id": "e4971332",
   "metadata": {},
   "outputs": [
    {
     "name": "stdout",
     "output_type": "stream",
     "text": [
      "Aproximated value: 1.4142135\n",
      "Error of the method in the root evaluated: -1.77e-07\n",
      "Maximum error of the method: 5.86e-01\n",
      "Real value: 1.4142136\n",
      "Absolute Error (respect real value): 6.25e-08\n",
      "Relative Error (respect real value): 4.42e-08\n",
      "Number of iterations: 9\n"
     ]
    }
   ],
   "source": [
    "import math\n",
    "#Regula falsi to find the square root of 2\n",
    "x1 = 2; x2 = 1\n",
    "Tol = 10**(-6)\n",
    "f = 1\n",
    "f1 = x1**2 - 2\n",
    "f2 = x2**2 - 2\n",
    "i = 0\n",
    "while abs(f) > Tol:\n",
    "    i += 1\n",
    "    x = (x1*f2-x2*f1)/(f2-f1)\n",
    "    f = x**2 - 2\n",
    "    if f1*f < 0:\n",
    "        x2 = x\n",
    "        f2 = f\n",
    "    else:\n",
    "        x1 = x\n",
    "        f1 = f\n",
    "\n",
    "print('Aproximated value: %.7f'% x)\n",
    "errorM = abs(x1-x2)\n",
    "print('Error of the method in the root evaluated: %.2e'% f)\n",
    "print('Maximum error of the method: %.2e'% errorM)\n",
    "realx = math.sqrt(2)\n",
    "errorA = abs(realx - x)\n",
    "errorR = errorA/realx\n",
    "print('Real value: %.7f'% realx)\n",
    "print('Absolute Error (respect real value): %.2e'% errorA)\n",
    "print('Relative Error (respect real value): %.2e'% errorR)\n",
    "print('Number of iterations: %i'% i)\n",
    "    \n",
    "    "
   ]
  },
  {
   "cell_type": "code",
   "execution_count": 7,
   "id": "0a6b4435",
   "metadata": {},
   "outputs": [
    {
     "name": "stdout",
     "output_type": "stream",
     "text": [
      "Aproximated value: 1.4142136\n"
     ]
    }
   ],
   "source": [
    "import math\n",
    "from scipy.optimize import bisect\n",
    "#Bisection Method to find the square root of 2\n",
    "\n",
    "def fun(x):\n",
    "    return x**2 - 2\n",
    "x_high = 2; x_low = 1\n",
    "x = bisect(fun, x_low, x_high, xtol=1e-15, maxiter=50)\n",
    "\n",
    "print('Aproximated value: %.7f'% x)\n"
   ]
  },
  {
   "cell_type": "code",
   "execution_count": null,
   "id": "bbae7c78",
   "metadata": {},
   "outputs": [],
   "source": []
  }
 ],
 "metadata": {
  "kernelspec": {
   "display_name": "Python 3",
   "language": "python",
   "name": "python3"
  },
  "language_info": {
   "codemirror_mode": {
    "name": "ipython",
    "version": 3
   },
   "file_extension": ".py",
   "mimetype": "text/x-python",
   "name": "python",
   "nbconvert_exporter": "python",
   "pygments_lexer": "ipython3",
   "version": "3.8.8"
  }
 },
 "nbformat": 4,
 "nbformat_minor": 5
}
