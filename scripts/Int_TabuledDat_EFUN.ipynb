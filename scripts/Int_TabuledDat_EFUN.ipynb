{
 "cells": [
  {
   "cell_type": "code",
   "execution_count": 7,
   "id": "6aad9088",
   "metadata": {},
   "outputs": [
    {
     "name": "stdout",
     "output_type": "stream",
     "text": [
      "Average residence time: 378.7882506\n",
      "The dispersion: 31570.3802070\n"
     ]
    },
    {
     "data": {
      "image/png": "[encoded data removed]",
      "text/plain": [
       "<Figure size 432x288 with 1 Axes>"
      ]
     },
     "metadata": {
      "needs_background": "light"
     },
     "output_type": "display_data"
    }
   ],
   "source": [
    "import matplotlib.pyplot as plt\n",
    "import scipy.integrate as spi\n",
    "\n",
    "# data\n",
    "t = [0, 100, 200,  300,  400,  500, 600, 700,  800, 900, 1000, 1100]\n",
    "c = [0,  17,  95, 97.5, 74.5, 52.5,  34,  21, 11.5, 4.5, 0.01, 0]\n",
    "\n",
    "# plot\n",
    "plt.plot(t,c, 'ok')\n",
    "\n",
    "E   = c/spi.trapz(c,t)\n",
    "tav = spi.trapz(t*E, t)\n",
    "print('Average residence time: %.7f'%tav)\n",
    "disp  = spi.trapz((t - tav)**2*E, t)\n",
    "print('The dispersion: %.7f'%disp)\n"
   ]
  },
  {
   "cell_type": "code",
   "execution_count": 9,
   "id": "896317fe",
   "metadata": {},
   "outputs": [
    {
     "name": "stdout",
     "output_type": "stream",
     "text": [
      "Average residence time: 378.7882506\n"
     ]
    }
   ],
   "source": [
    "\n",
    "import matplotlib.pyplot as plt\n",
    "import numpy as np\n",
    "\n",
    "# data\n",
    "t = np.array([0, 100, 200,  300,  400,  500, 600, 700,  800, 900, 1000, 1100])\n",
    "c = np.array([0,  17,  95, 97.5, 74.5, 52.5,  34,  21, 11.5, 4.5, 0.01, 0])\n",
    "\n",
    "\n",
    "def myTrapz(f,x):\n",
    "    A = np.zeros(len(x)-1)\n",
    "    A[0::] = (x[1::] - x[0:-1])*(f[0:-1] + f[1::])/2\n",
    "    return sum(A)\n",
    "\n",
    "tav = myTrapz(t*c/myTrapz(c,t),t)\n",
    "print('Average residence time: %.7f'%tav)"
   ]
  },
  {
   "cell_type": "code",
   "execution_count": 10,
   "id": "d8ac6560",
   "metadata": {},
   "outputs": [
    {
     "data": {
      "text/plain": [
       "<matplotlib.collections.PolyCollection at 0x23b93ad3130>"
      ]
     },
     "execution_count": 10,
     "metadata": {},
     "output_type": "execute_result"
    },
    {
     "data": {
      "image/png": "[encoded data removed]",
      "text/plain": [
       "<Figure size 432x288 with 1 Axes>"
      ]
     },
     "metadata": {
      "needs_background": "light"
     },
     "output_type": "display_data"
    }
   ],
   "source": [
    "\n",
    "import matplotlib.pyplot as plt\n",
    "import scipy.integrate as spi\n",
    "import numpy as np\n",
    "from scipy.interpolate import interp1d\n",
    "# data\n",
    "t = [0, 100, 200,  300,  400,  500, 600, 700,  800, 900, 1000, 1100]\n",
    "c = [0,  17,  95, 97.5, 74.5, 52.5,  34,  21, 11.5, 4.5, 0.01, 0]\n",
    "\n",
    "# plot\n",
    "plt.plot(t,c, 'ok')\n",
    "\n",
    "# Calculate average RT and dispersion\n",
    "E   = c/spi.trapz(c,t)\n",
    "tav = spi.trapz(t*E, t)\n",
    "disp  = spi.trapz((t - tav)**2*E, t)\n",
    "\n",
    "# Create times for plotting\n",
    "tleft = np.linspace(0,tav,100)\n",
    "tright = np.linspace(tav, t[-1],100)\n",
    "tt = np.linspace(t[0], t[-1], 100)\n",
    "\n",
    "# interpolate data\n",
    "f =interp1d(t,c)\n",
    "\n",
    "# Fill left and right with different colors\n",
    "plt.plot(tt, f(tt), 'k-')\n",
    "plt.fill_between(tleft,f(tleft),0)\n",
    "plt.fill_between(tright,f(tright),0)\n"
   ]
  },
  {
   "cell_type": "code",
   "execution_count": null,
   "id": "70539ca3",
   "metadata": {},
   "outputs": [],
   "source": []
  }
 ],
 "metadata": {
  "kernelspec": {
   "display_name": "Python 3",
   "language": "python",
   "name": "python3"
  },
  "language_info": {
   "codemirror_mode": {
    "name": "ipython",
    "version": 3
   },
   "file_extension": ".py",
   "mimetype": "text/x-python",
   "name": "python",
   "nbconvert_exporter": "python",
   "pygments_lexer": "ipython3",
   "version": "3.8.8"
  }
 },
 "nbformat": 4,
 "nbformat_minor": 5
}
