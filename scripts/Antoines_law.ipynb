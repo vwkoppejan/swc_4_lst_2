{
 "cells": [
  {
   "cell_type": "code",
   "execution_count": 2,
   "metadata": {},
   "outputs": [
    {
     "name": "stdout",
     "output_type": "stream",
     "text": [
      "Boiling temperature is 93.70 oC\n"
     ]
    }
   ],
   "source": [
    "import numpy as np\n",
    "import scipy.optimize as spo\n",
    "import matplotlib.pyplot as plt\n",
    "\n",
    "\n",
    "###### Question a\n",
    "\n",
    "# Antoine coefficients water\n",
    "Aw = 8.07131\n",
    "Bw =1730.63 \n",
    "Cw =233.426 \n",
    "# Antoine coefficients ethanol\n",
    "Ae =7.68117 \n",
    "Be =1332.04\n",
    "Ce =199.200 \n",
    "# Other constants\n",
    "xe = 0.2    # Mole fraction of ethanol\n",
    "xw = 0.8    # Mole fraction of water\n",
    "P  = 755    # mm Hg\n",
    "\n",
    "# Function to calculate temperature from vapor pressures\n",
    "def fun(T):  # temperature T is the unknown we solve for\n",
    "    \n",
    "    # Antoine's law\n",
    "    Pw_0 = 10**(Aw - Bw/(Cw + T))\n",
    "    Pe_0 = 10**(Ae - Be/(Ce + T))\n",
    "    \n",
    "    # Raoult's law\n",
    "    Pw = xw * Pw_0\n",
    "    Pe = xe * Pe_0\n",
    "    \n",
    "    # Dalton's law\n",
    "    P_tot = Pw + Pe\n",
    "    \n",
    "    # Equation we want to solve for:\n",
    "    # Boiling point of a mixture -> when the total vapour pressure equals the atmospheric pressure\n",
    "    f = P - P_tot \n",
    "    \n",
    "    return f\n",
    "\n",
    "\n",
    "# Choose an interval between the boiling point of ethanol (78) and water (100)\n",
    "T_low = 78               # lower boundary of interval\n",
    "T_high= 100              # upper boundary of interval\n",
    "\n",
    "# Use the Bisection method to solve the equation. \n",
    "# Newton-Raphson also works, but then we have to provide the derivative of the equation\n",
    "x = spo.bisect(fun, T_low, T_high, xtol=1e-15, maxiter=100)\n",
    "\n",
    "print('Boiling temperature is {:.2f} oC'.format(x))\n"
   ]
  },
  {
   "cell_type": "code",
   "execution_count": 3,
   "metadata": {},
   "outputs": [
    {
     "data": {
      "text/plain": [
       "(85.0, 100.0)"
      ]
     },
     "execution_count": 3,
     "metadata": {},
     "output_type": "execute_result"
    },
    {
     "data": {
      "image/png": "[encoded data removed]",
      "text/plain": [
       "<Figure size 432x288 with 1 Axes>"
      ]
     },
     "metadata": {
      "needs_background": "light"
     },
     "output_type": "display_data"
    }
   ],
   "source": [
    "###### Question b\n",
    "\n",
    "# Define an interval for values of xe\n",
    "# 50 values taken from 0 to 0.4  (equally spaced)\n",
    "xe_a = np.linspace(0, 0.4, 50) \n",
    "\n",
    "# Create an array to store the T solutions for each xe\n",
    "T = np.zeros([50,1])       \n",
    "\n",
    "# Solve the equation for all values of xe, one by one\n",
    "for i, xe in enumerate(xe_a):\n",
    "    xw   = 1 - xe\n",
    "    T[i] = spo.bisect(fun, T_low, T_high, xtol=1e-15, maxiter=100)\n",
    "    \n",
    "  \n",
    "# Make a plot with the found solutions T at different xe \n",
    "plt.figure()\n",
    "plt.plot(xe_a*100, T)\n",
    "plt.xlabel('% Ethanol')\n",
    "plt.ylabel('$T_{boiling} (^oC)$')\n",
    "plt.xlim([0, 40])\n",
    "plt.ylim([85, 100])\n"
   ]
  },
  {
   "cell_type": "code",
   "execution_count": null,
   "metadata": {},
   "outputs": [],
   "source": []
  }
 ],
 "metadata": {
  "kernelspec": {
   "display_name": "Python 3",
   "language": "python",
   "name": "python3"
  },
  "language_info": {
   "codemirror_mode": {
    "name": "ipython",
    "version": 3
   },
   "file_extension": ".py",
   "mimetype": "text/x-python",
   "name": "python",
   "nbconvert_exporter": "python",
   "pygments_lexer": "ipython3",
   "version": "3.8.8"
  }
 },
 "nbformat": 4,
 "nbformat_minor": 4
}
